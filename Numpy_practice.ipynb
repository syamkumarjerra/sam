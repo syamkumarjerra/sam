{
  "nbformat": 4,
  "nbformat_minor": 0,
  "metadata": {
    "colab": {
      "name": "Numpy_practice.ipynb",
      "provenance": [],
      "collapsed_sections": [
        "5UzJPxAS2FGu",
        "HtQzl3U0xyhd",
        "9peA--WNzi3S",
        "ySgEA5DH00Wg",
        "9ZPV1Jf11sWB",
        "VpnDYanG3ciG"
      ],
      "authorship_tag": "ABX9TyO7Rubc4V4tOG3J4SZhWUH5",
      "include_colab_link": true
    },
    "kernelspec": {
      "name": "python3",
      "display_name": "Python 3"
    },
    "language_info": {
      "name": "python"
    }
  },
  "cells": [
    {
      "cell_type": "markdown",
      "metadata": {
        "id": "view-in-github",
        "colab_type": "text"
      },
      "source": [
        "<a href=\"https://colab.research.google.com/github/syamkumarjerra/sam/blob/master/Numpy_practice.ipynb\" target=\"_parent\"><img src=\"https://colab.research.google.com/assets/colab-badge.svg\" alt=\"Open In Colab\"/></a>"
      ]
    },
    {
      "cell_type": "markdown",
      "metadata": {
        "id": "5UzJPxAS2FGu"
      },
      "source": [
        "## Numpy Array declaration"
      ]
    },
    {
      "cell_type": "code",
      "metadata": {
        "id": "97p320nLqA89"
      },
      "source": [
        "import numpy as np"
      ],
      "execution_count": null,
      "outputs": []
    },
    {
      "cell_type": "code",
      "metadata": {
        "colab": {
          "base_uri": "https://localhost:8080/"
        },
        "id": "wCFFOFXdq2OS",
        "outputId": "d8ed16af-ef65-4a53-ceed-30c62eeeca58"
      },
      "source": [
        "#Numpy array is homogenous\n",
        "a = np.array([3,4.,5,6.])\n",
        "print(\"Array printing:\",a)"
      ],
      "execution_count": null,
      "outputs": [
        {
          "output_type": "stream",
          "text": [
            "Array printing: [3. 4. 5. 6.]\n"
          ],
          "name": "stdout"
        }
      ]
    },
    {
      "cell_type": "code",
      "metadata": {
        "colab": {
          "base_uri": "https://localhost:8080/"
        },
        "id": "ndUBGtFErSB3",
        "outputId": "d7043f4a-64c7-4c23-ee69-3e5702d564b4"
      },
      "source": [
        "#1-D Array\n",
        "a = np.array([3,1,5])\n",
        "print(a)\n",
        "print(\"Array dimensions:\",a.ndim)\n",
        "print(\"Array Size\",a.size)\n",
        "print(\"Array Shape\",a.shape)\n",
        "print(\"Array elements type:\",a.dtype)"
      ],
      "execution_count": null,
      "outputs": [
        {
          "output_type": "stream",
          "text": [
            "[3 1 5]\n",
            "Array dimensions: 1\n",
            "Array Size 3\n",
            "Array Shape (3,)\n",
            "Array elements type: int64\n"
          ],
          "name": "stdout"
        }
      ]
    },
    {
      "cell_type": "code",
      "metadata": {
        "id": "lOLrqrxZrdos"
      },
      "source": [
        ""
      ],
      "execution_count": null,
      "outputs": []
    },
    {
      "cell_type": "code",
      "metadata": {
        "colab": {
          "base_uri": "https://localhost:8080/"
        },
        "id": "31oAzfNMsvSu",
        "outputId": "5db57278-f8aa-42dc-8536-f398cb68790c"
      },
      "source": [
        "#2D Array is a collection of 1-D array\n",
        "a = np.array([\n",
        "              [3,1,5],\n",
        "              [3,5,7],\n",
        "              [1,4,7]\n",
        "              ])\n",
        "print(\"Array Itemas\",a)\n",
        "print(\"Array dimensions:\",a.ndim)\n",
        "print(\"Array Size\",a.size)\n",
        "print(\"Array Shape\",a.shape)\n",
        "print(\"Array elements type:\",a.dtype)"
      ],
      "execution_count": null,
      "outputs": [
        {
          "output_type": "stream",
          "text": [
            "Array Itemas [[3 1 5]\n",
            " [3 5 7]\n",
            " [1 4 7]]\n",
            "Array dimensions: 2\n",
            "Array Size 9\n",
            "Array Shape (3, 3)\n",
            "Array elements type: int64\n"
          ],
          "name": "stdout"
        }
      ]
    },
    {
      "cell_type": "code",
      "metadata": {
        "colab": {
          "base_uri": "https://localhost:8080/"
        },
        "id": "nlYmgsh4s302",
        "outputId": "da325c2c-3f40-42da-8d21-cb2303957957"
      },
      "source": [
        "#3D Array is a collection of 2D array\n",
        "a = np.array([\n",
        "              [\n",
        "                [4,5,6,1],\n",
        "                [1,3,6,2],\n",
        "                [7,8,9,3]\n",
        "              ],\n",
        "              [\n",
        "                [4,5,6,5],\n",
        "                [1,3,6,7],\n",
        "                [7,8,9,8]\n",
        "              ]\n",
        "            ])\n",
        "print(\"Array Itemas\",a)\n",
        "print(\"Array dimensions:\",a.ndim)\n",
        "print(\"Array Size\",a.size)\n",
        "print(\"Array Shape\",a.shape)\n",
        "print(\"Array elements type:\",a.dtype)"
      ],
      "execution_count": null,
      "outputs": [
        {
          "output_type": "stream",
          "text": [
            "Array Itemas [[[4 5 6 1]\n",
            "  [1 3 6 2]\n",
            "  [7 8 9 3]]\n",
            "\n",
            " [[4 5 6 5]\n",
            "  [1 3 6 7]\n",
            "  [7 8 9 8]]]\n",
            "Array dimensions: 3\n",
            "Array Size 24\n",
            "Array Shape (2, 3, 4)\n",
            "Array elements type: int64\n"
          ],
          "name": "stdout"
        }
      ]
    },
    {
      "cell_type": "code",
      "metadata": {
        "colab": {
          "base_uri": "https://localhost:8080/"
        },
        "id": "6RffnusjuZsw",
        "outputId": "38eca6aa-5781-4bd9-a5fb-98c555fff1fd"
      },
      "source": [
        "print(\"Complete Arrayy:\\n\",a)"
      ],
      "execution_count": null,
      "outputs": [
        {
          "output_type": "stream",
          "text": [
            "Complete Arrayy:\n",
            " [[[4 5 6 1]\n",
            "  [1 3 6 2]\n",
            "  [7 8 9 3]]\n",
            "\n",
            " [[4 5 6 5]\n",
            "  [1 3 6 7]\n",
            "  [7 8 9 8]]]\n"
          ],
          "name": "stdout"
        }
      ]
    },
    {
      "cell_type": "code",
      "metadata": {
        "colab": {
          "base_uri": "https://localhost:8080/"
        },
        "id": "chr7T7Rev7x_",
        "outputId": "d3b1d5dc-5b0b-4950-fa3d-5649c681e6ba"
      },
      "source": [
        "print(\"Suum of elements in an array:\\n\",\n",
        "      a[0] + a[1])"
      ],
      "execution_count": null,
      "outputs": [
        {
          "output_type": "stream",
          "text": [
            "Suum of elements in an array:\n",
            " [[ 8 10 12  6]\n",
            " [ 2  6 12  9]\n",
            " [14 16 18 11]]\n"
          ],
          "name": "stdout"
        }
      ]
    },
    {
      "cell_type": "code",
      "metadata": {
        "colab": {
          "base_uri": "https://localhost:8080/"
        },
        "id": "w9OcpNRtwBJ7",
        "outputId": "24cad226-3849-43ca-a96a-53aef7ef70d6"
      },
      "source": [
        "print(a[0][0])"
      ],
      "execution_count": null,
      "outputs": [
        {
          "output_type": "stream",
          "text": [
            "[4 5 6 1]\n"
          ],
          "name": "stdout"
        }
      ]
    },
    {
      "cell_type": "code",
      "metadata": {
        "colab": {
          "base_uri": "https://localhost:8080/"
        },
        "id": "V6ZWv6eswFDc",
        "outputId": "4cbf360c-1f17-411d-fc12-4e3120c3d501"
      },
      "source": [
        "print(a[0][1])"
      ],
      "execution_count": null,
      "outputs": [
        {
          "output_type": "stream",
          "text": [
            "[1 3 6 2]\n"
          ],
          "name": "stdout"
        }
      ]
    },
    {
      "cell_type": "code",
      "metadata": {
        "colab": {
          "base_uri": "https://localhost:8080/"
        },
        "id": "PQ8F05pixYar",
        "outputId": "d6db1ef2-1f32-4088-d233-f7942ee84863"
      },
      "source": [
        "print(a[0][1] + a[1][1])"
      ],
      "execution_count": null,
      "outputs": [
        {
          "output_type": "stream",
          "text": [
            "[ 2  6 12  9]\n"
          ],
          "name": "stdout"
        }
      ]
    },
    {
      "cell_type": "code",
      "metadata": {
        "colab": {
          "base_uri": "https://localhost:8080/"
        },
        "id": "qBgYhd2sxgAO",
        "outputId": "2fde6cbf-b116-48f2-a7ed-1c5bfc52264b"
      },
      "source": [
        "print((a[0][1])[1])"
      ],
      "execution_count": null,
      "outputs": [
        {
          "output_type": "stream",
          "text": [
            "3\n"
          ],
          "name": "stdout"
        }
      ]
    },
    {
      "cell_type": "code",
      "metadata": {
        "id": "2DiHGi0o1-N7"
      },
      "source": [
        ""
      ],
      "execution_count": null,
      "outputs": []
    },
    {
      "cell_type": "markdown",
      "metadata": {
        "id": "HtQzl3U0xyhd"
      },
      "source": [
        " ## Numpy Array Range --- np.arange"
      ]
    },
    {
      "cell_type": "code",
      "metadata": {
        "colab": {
          "base_uri": "https://localhost:8080/"
        },
        "id": "ZAA-kcDPx8Yy",
        "outputId": "74317393-770f-4840-fd26-e7efb1e1e8c3"
      },
      "source": [
        "np.arange(10)"
      ],
      "execution_count": null,
      "outputs": [
        {
          "output_type": "execute_result",
          "data": {
            "text/plain": [
              "array([0, 1, 2, 3, 4, 5, 6, 7, 8, 9])"
            ]
          },
          "metadata": {
            "tags": []
          },
          "execution_count": 35
        }
      ]
    },
    {
      "cell_type": "code",
      "metadata": {
        "colab": {
          "base_uri": "https://localhost:8080/"
        },
        "id": "slOjWhSSyfM1",
        "outputId": "bf390c27-e2d2-47b9-f4e8-1a188de05db5"
      },
      "source": [
        "np.arange(10,20) #Excluding the last time ,including the first number"
      ],
      "execution_count": null,
      "outputs": [
        {
          "output_type": "execute_result",
          "data": {
            "text/plain": [
              "array([10, 11, 12, 13, 14, 15, 16, 17, 18, 19])"
            ]
          },
          "metadata": {
            "tags": []
          },
          "execution_count": 39
        }
      ]
    },
    {
      "cell_type": "code",
      "metadata": {
        "colab": {
          "base_uri": "https://localhost:8080/"
        },
        "id": "UqGyySgPyfux",
        "outputId": "b8a3e83b-a7b1-4592-ef91-7339da772f9c"
      },
      "source": [
        "np.arange(10,20,2)"
      ],
      "execution_count": null,
      "outputs": [
        {
          "output_type": "execute_result",
          "data": {
            "text/plain": [
              "array([10, 12, 14, 16, 18])"
            ]
          },
          "metadata": {
            "tags": []
          },
          "execution_count": 41
        }
      ]
    },
    {
      "cell_type": "code",
      "metadata": {
        "colab": {
          "base_uri": "https://localhost:8080/"
        },
        "id": "I1s4xQjYzJdG",
        "outputId": "d8d1cbde-9ec5-428a-84e5-126682bbd183"
      },
      "source": [
        "np.arange(11,20,3)# arange(start,end,step)"
      ],
      "execution_count": null,
      "outputs": [
        {
          "output_type": "execute_result",
          "data": {
            "text/plain": [
              "array([11, 14, 17])"
            ]
          },
          "metadata": {
            "tags": []
          },
          "execution_count": 45
        }
      ]
    },
    {
      "cell_type": "markdown",
      "metadata": {
        "id": "9peA--WNzi3S"
      },
      "source": [
        "## reshape"
      ]
    },
    {
      "cell_type": "code",
      "metadata": {
        "id": "WNwzJjsIz7Xp"
      },
      "source": [
        "a = np.arange(10,34)\n",
        "a = a.reshape(1,1,1,1,1,4,3,2)"
      ],
      "execution_count": null,
      "outputs": []
    },
    {
      "cell_type": "code",
      "metadata": {
        "colab": {
          "base_uri": "https://localhost:8080/"
        },
        "id": "bAFx-R_W0dQZ",
        "outputId": "3a95bbdb-d62f-4a71-a784-ed4aa94d9e1b"
      },
      "source": [
        "a"
      ],
      "execution_count": null,
      "outputs": [
        {
          "output_type": "execute_result",
          "data": {
            "text/plain": [
              "array([[[[[[[[10, 11],\n",
              "             [12, 13],\n",
              "             [14, 15]],\n",
              "\n",
              "            [[16, 17],\n",
              "             [18, 19],\n",
              "             [20, 21]],\n",
              "\n",
              "            [[22, 23],\n",
              "             [24, 25],\n",
              "             [26, 27]],\n",
              "\n",
              "            [[28, 29],\n",
              "             [30, 31],\n",
              "             [32, 33]]]]]]]])"
            ]
          },
          "metadata": {
            "tags": []
          },
          "execution_count": 48
        }
      ]
    },
    {
      "cell_type": "code",
      "metadata": {
        "colab": {
          "base_uri": "https://localhost:8080/"
        },
        "id": "wtu-w9XB0fqa",
        "outputId": "6a4d6156-1c0b-40a7-a35c-671c3100124c"
      },
      "source": [
        "a.ndim\n",
        "a.shape\n",
        "a.size"
      ],
      "execution_count": null,
      "outputs": [
        {
          "output_type": "execute_result",
          "data": {
            "text/plain": [
              "24"
            ]
          },
          "metadata": {
            "tags": []
          },
          "execution_count": 56
        }
      ]
    },
    {
      "cell_type": "markdown",
      "metadata": {
        "id": "ySgEA5DH00Wg"
      },
      "source": [
        "## ravel -- flatens array dimension"
      ]
    },
    {
      "cell_type": "code",
      "metadata": {
        "colab": {
          "base_uri": "https://localhost:8080/"
        },
        "id": "Zq68zPWQ1LUO",
        "outputId": "b278528c-0574-4207-9fb3-e10180246a1f"
      },
      "source": [
        "a.ravel()"
      ],
      "execution_count": null,
      "outputs": [
        {
          "output_type": "execute_result",
          "data": {
            "text/plain": [
              "array([10, 11, 12, 13, 14, 15, 16, 17, 18, 19, 20, 21, 22, 23, 24, 25, 26,\n",
              "       27, 28, 29, 30, 31, 32, 33])"
            ]
          },
          "metadata": {
            "tags": []
          },
          "execution_count": 53
        }
      ]
    },
    {
      "cell_type": "code",
      "metadata": {
        "colab": {
          "base_uri": "https://localhost:8080/"
        },
        "id": "w_2biO5J1OKi",
        "outputId": "f1eebd37-b266-412d-b68f-480dc8e871a7"
      },
      "source": [
        "a.ndim\n",
        "a.shape\n"
      ],
      "execution_count": null,
      "outputs": [
        {
          "output_type": "execute_result",
          "data": {
            "text/plain": [
              "(1, 1, 1, 1, 1, 4, 3, 2)"
            ]
          },
          "metadata": {
            "tags": []
          },
          "execution_count": 60
        }
      ]
    },
    {
      "cell_type": "markdown",
      "metadata": {
        "id": "9ZPV1Jf11sWB"
      },
      "source": [
        "## linespace() -- linerarly spaced()"
      ]
    },
    {
      "cell_type": "code",
      "metadata": {
        "colab": {
          "base_uri": "https://localhost:8080/"
        },
        "id": "ZOXSg9Zp12Dh",
        "outputId": "46db5349-fec3-454c-942f-1eb75520283d"
      },
      "source": [
        "#Linespace divides the elements into n equal distubutions,based on below syntax\n",
        "#np.linspace(10,50,n)\n",
        "np.linspace(10,100,10)"
      ],
      "execution_count": null,
      "outputs": [
        {
          "output_type": "execute_result",
          "data": {
            "text/plain": [
              "array([ 10.,  20.,  30.,  40.,  50.,  60.,  70.,  80.,  90., 100.])"
            ]
          },
          "metadata": {
            "tags": []
          },
          "execution_count": 65
        }
      ]
    },
    {
      "cell_type": "code",
      "metadata": {
        "colab": {
          "base_uri": "https://localhost:8080/"
        },
        "id": "yFwkZUN02cQI",
        "outputId": "64ebecae-aaf2-4eeb-8ef6-4f6d542b2a12"
      },
      "source": [
        "np.random.rand()"
      ],
      "execution_count": null,
      "outputs": [
        {
          "output_type": "execute_result",
          "data": {
            "text/plain": [
              "0.8099996684745954"
            ]
          },
          "metadata": {
            "tags": []
          },
          "execution_count": 66
        }
      ]
    },
    {
      "cell_type": "markdown",
      "metadata": {
        "id": "VpnDYanG3ciG"
      },
      "source": [
        "## Genarte random number between 35 and 100"
      ]
    },
    {
      "cell_type": "code",
      "metadata": {
        "id": "6ywIw2FJ4L7t"
      },
      "source": [
        "a = np.random.randint(35,100,100).reshape(10,10)"
      ],
      "execution_count": null,
      "outputs": []
    },
    {
      "cell_type": "code",
      "metadata": {
        "colab": {
          "base_uri": "https://localhost:8080/"
        },
        "id": "Cxn_J2yE4kHc",
        "outputId": "72f40153-f737-4e82-8857-983f82ac7a43"
      },
      "source": [
        "a"
      ],
      "execution_count": null,
      "outputs": [
        {
          "output_type": "execute_result",
          "data": {
            "text/plain": [
              "array([[59, 92, 56, 79, 52, 84, 97, 95, 85, 45],\n",
              "       [61, 36, 95, 88, 39, 73, 49, 43, 78, 70],\n",
              "       [71, 83, 89, 74, 92, 70, 71, 61, 95, 45],\n",
              "       [55, 85, 84, 80, 43, 92, 57, 45, 79, 37],\n",
              "       [55, 50, 39, 62, 86, 66, 55, 54, 69, 66],\n",
              "       [57, 48, 40, 89, 41, 86, 99, 91, 70, 44],\n",
              "       [65, 74, 88, 58, 54, 68, 44, 78, 67, 60],\n",
              "       [41, 86, 48, 77, 54, 76, 66, 45, 57, 62],\n",
              "       [36, 75, 52, 99, 38, 57, 53, 37, 79, 46],\n",
              "       [91, 88, 62, 63, 48, 99, 80, 96, 47, 60]])"
            ]
          },
          "metadata": {
            "tags": []
          },
          "execution_count": 71
        }
      ]
    },
    {
      "cell_type": "code",
      "metadata": {
        "colab": {
          "base_uri": "https://localhost:8080/"
        },
        "id": "fJzpE_j44c8W",
        "outputId": "b8ddf956-be27-4eb6-a8b7-baf5e587eb2f"
      },
      "source": [
        "np.sqrt(a)"
      ],
      "execution_count": null,
      "outputs": [
        {
          "output_type": "execute_result",
          "data": {
            "text/plain": [
              "array([[7.68114575, 9.59166305, 7.48331477, 8.88819442, 7.21110255,\n",
              "        9.16515139, 9.8488578 , 9.74679434, 9.21954446, 6.70820393],\n",
              "       [7.81024968, 6.        , 9.74679434, 9.38083152, 6.244998  ,\n",
              "        8.54400375, 7.        , 6.55743852, 8.83176087, 8.36660027],\n",
              "       [8.42614977, 9.11043358, 9.43398113, 8.60232527, 9.59166305,\n",
              "        8.36660027, 8.42614977, 7.81024968, 9.74679434, 6.70820393],\n",
              "       [7.41619849, 9.21954446, 9.16515139, 8.94427191, 6.55743852,\n",
              "        9.59166305, 7.54983444, 6.70820393, 8.88819442, 6.08276253],\n",
              "       [7.41619849, 7.07106781, 6.244998  , 7.87400787, 9.2736185 ,\n",
              "        8.1240384 , 7.41619849, 7.34846923, 8.30662386, 8.1240384 ],\n",
              "       [7.54983444, 6.92820323, 6.32455532, 9.43398113, 6.40312424,\n",
              "        9.2736185 , 9.94987437, 9.53939201, 8.36660027, 6.63324958],\n",
              "       [8.06225775, 8.60232527, 9.38083152, 7.61577311, 7.34846923,\n",
              "        8.24621125, 6.63324958, 8.83176087, 8.18535277, 7.74596669],\n",
              "       [6.40312424, 9.2736185 , 6.92820323, 8.77496439, 7.34846923,\n",
              "        8.71779789, 8.1240384 , 6.70820393, 7.54983444, 7.87400787],\n",
              "       [6.        , 8.66025404, 7.21110255, 9.94987437, 6.164414  ,\n",
              "        7.54983444, 7.28010989, 6.08276253, 8.88819442, 6.78232998],\n",
              "       [9.53939201, 9.38083152, 7.87400787, 7.93725393, 6.92820323,\n",
              "        9.94987437, 8.94427191, 9.79795897, 6.8556546 , 7.74596669]])"
            ]
          },
          "metadata": {
            "tags": []
          },
          "execution_count": 72
        }
      ]
    },
    {
      "cell_type": "code",
      "metadata": {
        "colab": {
          "base_uri": "https://localhost:8080/"
        },
        "id": "U6_NB95P4y6x",
        "outputId": "3c6e0b2f-77b6-4590-874f-063c87358a82"
      },
      "source": [
        "np.exp(a)"
      ],
      "execution_count": null,
      "outputs": [
        {
          "output_type": "execute_result",
          "data": {
            "text/plain": [
              "array([[4.60718663e+28, 1.25236317e+29, 6.07603023e+37, 8.43835667e+26,\n",
              "        3.40427605e+29, 2.51543867e+30, 1.01480039e+33, 2.03828107e+34,\n",
              "        1.50609731e+35, 1.14200739e+26],\n",
              "       [1.58601345e+15, 1.14200739e+26, 2.83075330e+23, 4.60718663e+28,\n",
              "        1.73927494e+18, 1.17191424e+16, 1.54553894e+25, 5.54062238e+34,\n",
              "        9.01762841e+39, 3.73324200e+32],\n",
              "       [1.17191424e+16, 3.18559318e+16, 1.11286375e+36, 4.09399696e+35,\n",
              "        2.45124554e+40, 1.17191424e+16, 3.83100800e+22, 3.49342711e+19,\n",
              "        1.33833472e+42, 1.33833472e+42],\n",
              "       [4.31123155e+15, 2.83075330e+23, 3.18559318e+16, 3.73324200e+32,\n",
              "        5.05239363e+31, 1.54553894e+25, 2.75851345e+33, 8.22301271e+36,\n",
              "        3.31740010e+39, 6.23514908e+27],\n",
              "       [4.48961282e+38, 3.73324200e+32, 6.07603023e+37, 7.49841700e+33,\n",
              "        1.54553894e+25, 8.65934004e+16, 1.65163625e+38, 3.31740010e+39,\n",
              "        1.69488924e+28, 1.25236317e+29],\n",
              "       [9.25378173e+29, 3.02507732e+36, 8.22301271e+36, 1.85867175e+31,\n",
              "        6.83767123e+30, 6.07603023e+37, 2.35385267e+17, 1.14200739e+26,\n",
              "        3.02507732e+36, 2.45124554e+40],\n",
              "       [1.54553894e+25, 3.63797095e+42, 2.23524660e+37, 2.23524660e+37,\n",
              "        1.01480039e+33, 1.25236317e+29, 8.22301271e+36, 4.48961282e+38,\n",
              "        1.54553894e+25, 6.07603023e+37],\n",
              "       [6.83767123e+30, 6.66317622e+40, 1.25236317e+29, 9.01762841e+39,\n",
              "        2.51543867e+30, 6.39843494e+17, 9.49611942e+19, 3.63797095e+42,\n",
              "        2.83075330e+23, 1.37338298e+32],\n",
              "       [1.40934908e+22, 4.09399696e+35, 1.85867175e+31, 5.05239363e+31,\n",
              "        3.49342711e+19, 3.73324200e+32, 3.18559318e+16, 2.83075330e+23,\n",
              "        7.01673591e+20, 6.07603023e+37],\n",
              "       [2.45124554e+40, 1.90734657e+21, 1.85867175e+31, 1.28516001e+19,\n",
              "        2.58131289e+20, 7.49841700e+33, 4.72783947e+18, 2.75851345e+33,\n",
              "        2.51543867e+30, 1.73927494e+18]])"
            ]
          },
          "metadata": {
            "tags": []
          },
          "execution_count": 76
        }
      ]
    },
    {
      "cell_type": "code",
      "metadata": {
        "colab": {
          "base_uri": "https://localhost:8080/"
        },
        "id": "G6Ymm5uI5D9M",
        "outputId": "7895326c-63d1-4e8f-dc8d-7885147dbe47"
      },
      "source": [
        "np.exp(1)"
      ],
      "execution_count": null,
      "outputs": [
        {
          "output_type": "execute_result",
          "data": {
            "text/plain": [
              "2.718281828459045"
            ]
          },
          "metadata": {
            "tags": []
          },
          "execution_count": 77
        }
      ]
    },
    {
      "cell_type": "code",
      "metadata": {
        "colab": {
          "base_uri": "https://localhost:8080/"
        },
        "id": "2_WoFE-d5O9i",
        "outputId": "b12c0faf-674a-4a15-d794-9281533581fa"
      },
      "source": [
        "np.pi"
      ],
      "execution_count": null,
      "outputs": [
        {
          "output_type": "execute_result",
          "data": {
            "text/plain": [
              "3.141592653589793"
            ]
          },
          "metadata": {
            "tags": []
          },
          "execution_count": 78
        }
      ]
    },
    {
      "cell_type": "code",
      "metadata": {
        "colab": {
          "base_uri": "https://localhost:8080/"
        },
        "id": "iZ3O_fCo5QqT",
        "outputId": "32401a66-c394-4db3-ee6a-8ca9e511aba4"
      },
      "source": [
        "np.sin(1)"
      ],
      "execution_count": null,
      "outputs": [
        {
          "output_type": "execute_result",
          "data": {
            "text/plain": [
              "0.8414709848078965"
            ]
          },
          "metadata": {
            "tags": []
          },
          "execution_count": 79
        }
      ]
    },
    {
      "cell_type": "code",
      "metadata": {
        "colab": {
          "base_uri": "https://localhost:8080/"
        },
        "id": "fbq7lA9Z5SjF",
        "outputId": "54331847-e612-406f-dc06-7c641e9f7428"
      },
      "source": [
        "a = np.arange(24).reshape(3,2,4)\n",
        "print(\"NDIM\",a.ndim)\n",
        "print(\"Shape\",a.shape)\n",
        "print(a)\n"
      ],
      "execution_count": null,
      "outputs": [
        {
          "output_type": "stream",
          "text": [
            "NDIM 3\n",
            "Shape (3, 2, 4)\n",
            "[[[ 0  1  2  3]\n",
            "  [ 4  5  6  7]]\n",
            "\n",
            " [[ 8  9 10 11]\n",
            "  [12 13 14 15]]\n",
            "\n",
            " [[16 17 18 19]\n",
            "  [20 21 22 23]]]\n"
          ],
          "name": "stdout"
        }
      ]
    },
    {
      "cell_type": "code",
      "metadata": {
        "id": "ln3ir2jo5tBS"
      },
      "source": [
        "a = np.random.randint(35,100,16).reshape(4,4)\n",
        "b = np.random.randint(35,100,8).reshape(4,2)"
      ],
      "execution_count": null,
      "outputs": []
    },
    {
      "cell_type": "code",
      "metadata": {
        "colab": {
          "base_uri": "https://localhost:8080/"
        },
        "id": "3XFPnbBJ6pUv",
        "outputId": "d8d1f61e-628e-4903-9b2b-bc6fda260cf9"
      },
      "source": [
        "print(a)\n",
        "print(b)"
      ],
      "execution_count": null,
      "outputs": [
        {
          "output_type": "stream",
          "text": [
            "[[82 65 39 72]\n",
            " [66 63 75 40]\n",
            " [53 48 42 72]\n",
            " [67 94 98 61]]\n",
            "[[58 85]\n",
            " [46 64]\n",
            " [74 54]\n",
            " [89 93]]\n"
          ],
          "name": "stdout"
        }
      ]
    },
    {
      "cell_type": "code",
      "metadata": {
        "colab": {
          "base_uri": "https://localhost:8080/"
        },
        "id": "h5FEPEWZ6vtS",
        "outputId": "6af9d5f4-a164-4db0-9960-00308d0d24f5"
      },
      "source": [
        "a"
      ],
      "execution_count": null,
      "outputs": [
        {
          "output_type": "execute_result",
          "data": {
            "text/plain": [
              "array([[82, 65, 39, 72],\n",
              "       [66, 63, 75, 40],\n",
              "       [53, 48, 42, 72],\n",
              "       [67, 94, 98, 61]])"
            ]
          },
          "metadata": {
            "tags": []
          },
          "execution_count": 85
        }
      ]
    },
    {
      "cell_type": "code",
      "metadata": {
        "colab": {
          "base_uri": "https://localhost:8080/"
        },
        "id": "Oe1r-27o74D4",
        "outputId": "2fb3914c-611c-49b6-838b-2426628080dd"
      },
      "source": [
        "np.hstack(a)"
      ],
      "execution_count": null,
      "outputs": [
        {
          "output_type": "execute_result",
          "data": {
            "text/plain": [
              "array([82, 65, 39, 72, 66, 63, 75, 40, 53, 48, 42, 72, 67, 94, 98, 61])"
            ]
          },
          "metadata": {
            "tags": []
          },
          "execution_count": 86
        }
      ]
    },
    {
      "cell_type": "code",
      "metadata": {
        "colab": {
          "base_uri": "https://localhost:8080/"
        },
        "id": "JGfk8Fo779hk",
        "outputId": "8c7fc4a0-67e0-47cc-ac48-31cbb33acc9b"
      },
      "source": [
        "np.hsplit(a,4)[0]"
      ],
      "execution_count": null,
      "outputs": [
        {
          "output_type": "execute_result",
          "data": {
            "text/plain": [
              "array([[82],\n",
              "       [66],\n",
              "       [53],\n",
              "       [67]])"
            ]
          },
          "metadata": {
            "tags": []
          },
          "execution_count": 89
        }
      ]
    },
    {
      "cell_type": "code",
      "metadata": {
        "colab": {
          "base_uri": "https://localhost:8080/"
        },
        "id": "mFN00SGH8C8R",
        "outputId": "b2418c39-8199-4483-a8bb-26e75d3e409b"
      },
      "source": [
        "np.vstack(a)"
      ],
      "execution_count": null,
      "outputs": [
        {
          "output_type": "execute_result",
          "data": {
            "text/plain": [
              "array([[82, 65, 39, 72],\n",
              "       [66, 63, 75, 40],\n",
              "       [53, 48, 42, 72],\n",
              "       [67, 94, 98, 61]])"
            ]
          },
          "metadata": {
            "tags": []
          },
          "execution_count": 90
        }
      ]
    },
    {
      "cell_type": "code",
      "metadata": {
        "colab": {
          "base_uri": "https://localhost:8080/"
        },
        "id": "7SRuFZ6v8Qov",
        "outputId": "bc02d15e-37d3-4652-add5-5f4bc13a5fa0"
      },
      "source": [
        "np.hsplit(a,2)[1]"
      ],
      "execution_count": null,
      "outputs": [
        {
          "output_type": "execute_result",
          "data": {
            "text/plain": [
              "array([[39, 72],\n",
              "       [75, 40],\n",
              "       [42, 72],\n",
              "       [98, 61]])"
            ]
          },
          "metadata": {
            "tags": []
          },
          "execution_count": 91
        }
      ]
    },
    {
      "cell_type": "code",
      "metadata": {
        "colab": {
          "base_uri": "https://localhost:8080/"
        },
        "id": "NjcfYOEL8dTH",
        "outputId": "211decb9-154b-4394-8e44-c601f5c9cf2b"
      },
      "source": [
        "np.split(a,4)[1]"
      ],
      "execution_count": null,
      "outputs": [
        {
          "output_type": "execute_result",
          "data": {
            "text/plain": [
              "array([[66, 63, 75, 40]])"
            ]
          },
          "metadata": {
            "tags": []
          },
          "execution_count": 93
        }
      ]
    },
    {
      "cell_type": "code",
      "metadata": {
        "colab": {
          "base_uri": "https://localhost:8080/"
        },
        "id": "faGoitmK_lrv",
        "outputId": "cb7682d0-aa65-462a-d660-59fc39b1d7b0"
      },
      "source": [
        "np.vsplit(a,2)[0]"
      ],
      "execution_count": null,
      "outputs": [
        {
          "output_type": "execute_result",
          "data": {
            "text/plain": [
              "array([[82, 65, 39, 72],\n",
              "       [66, 63, 75, 40]])"
            ]
          },
          "metadata": {
            "tags": []
          },
          "execution_count": 98
        }
      ]
    },
    {
      "cell_type": "code",
      "metadata": {
        "id": "h9hX1rDGAK4o"
      },
      "source": [
        ""
      ],
      "execution_count": null,
      "outputs": []
    }
  ]
}