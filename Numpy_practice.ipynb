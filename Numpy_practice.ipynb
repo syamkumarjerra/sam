{
  "nbformat": 4,
  "nbformat_minor": 0,
  "metadata": {
    "colab": {
      "name": "Numpy_practice.ipynb",
      "provenance": [],
      "toc_visible": true,
      "authorship_tag": "ABX9TyNCUhNPt6ghAKB9bmkXZ5/o",
      "include_colab_link": true
    },
    "kernelspec": {
      "name": "python3",
      "display_name": "Python 3"
    },
    "language_info": {
      "name": "python"
    }
  },
  "cells": [
    {
      "cell_type": "markdown",
      "metadata": {
        "id": "view-in-github",
        "colab_type": "text"
      },
      "source": [
        "<a href=\"https://colab.research.google.com/github/syamkumarjerra/sam/blob/master/Numpy_practice.ipynb\" target=\"_parent\"><img src=\"https://colab.research.google.com/assets/colab-badge.svg\" alt=\"Open In Colab\"/></a>"
      ]
    },
    {
      "cell_type": "code",
      "metadata": {
        "id": "97p320nLqA89"
      },
      "source": [
        "import numpy as np"
      ],
      "execution_count": 2,
      "outputs": []
    },
    {
      "cell_type": "code",
      "metadata": {
        "colab": {
          "base_uri": "https://localhost:8080/"
        },
        "id": "wCFFOFXdq2OS",
        "outputId": "d8ed16af-ef65-4a53-ceed-30c62eeeca58"
      },
      "source": [
        "#Numpy array is homogenous\n",
        "a = np.array([3,4.,5,6.])\n",
        "print(\"Array printing:\",a)"
      ],
      "execution_count": 5,
      "outputs": [
        {
          "output_type": "stream",
          "text": [
            "Array printing: [3. 4. 5. 6.]\n"
          ],
          "name": "stdout"
        }
      ]
    },
    {
      "cell_type": "code",
      "metadata": {
        "colab": {
          "base_uri": "https://localhost:8080/"
        },
        "id": "ndUBGtFErSB3",
        "outputId": "d7043f4a-64c7-4c23-ee69-3e5702d564b4"
      },
      "source": [
        "#1-D Array\n",
        "a = np.array([3,1,5])\n",
        "print(a)\n",
        "print(\"Array dimensions:\",a.ndim)\n",
        "print(\"Array Size\",a.size)\n",
        "print(\"Array Shape\",a.shape)\n",
        "print(\"Array elements type:\",a.dtype)"
      ],
      "execution_count": 6,
      "outputs": [
        {
          "output_type": "stream",
          "text": [
            "[3 1 5]\n",
            "Array dimensions: 1\n",
            "Array Size 3\n",
            "Array Shape (3,)\n",
            "Array elements type: int64\n"
          ],
          "name": "stdout"
        }
      ]
    },
    {
      "cell_type": "code",
      "metadata": {
        "id": "lOLrqrxZrdos"
      },
      "source": [
        ""
      ],
      "execution_count": 6,
      "outputs": []
    },
    {
      "cell_type": "code",
      "metadata": {
        "colab": {
          "base_uri": "https://localhost:8080/"
        },
        "id": "31oAzfNMsvSu",
        "outputId": "5db57278-f8aa-42dc-8536-f398cb68790c"
      },
      "source": [
        "#2D Array is a collection of 1-D array\n",
        "a = np.array([\n",
        "              [3,1,5],\n",
        "              [3,5,7],\n",
        "              [1,4,7]\n",
        "              ])\n",
        "print(\"Array Itemas\",a)\n",
        "print(\"Array dimensions:\",a.ndim)\n",
        "print(\"Array Size\",a.size)\n",
        "print(\"Array Shape\",a.shape)\n",
        "print(\"Array elements type:\",a.dtype)"
      ],
      "execution_count": 11,
      "outputs": [
        {
          "output_type": "stream",
          "text": [
            "Array Itemas [[3 1 5]\n",
            " [3 5 7]\n",
            " [1 4 7]]\n",
            "Array dimensions: 2\n",
            "Array Size 9\n",
            "Array Shape (3, 3)\n",
            "Array elements type: int64\n"
          ],
          "name": "stdout"
        }
      ]
    },
    {
      "cell_type": "code",
      "metadata": {
        "colab": {
          "base_uri": "https://localhost:8080/"
        },
        "id": "nlYmgsh4s302",
        "outputId": "da325c2c-3f40-42da-8d21-cb2303957957"
      },
      "source": [
        "#3D Array is a collection of 2D array\n",
        "a = np.array([\n",
        "              [\n",
        "                [4,5,6,1],\n",
        "                [1,3,6,2],\n",
        "                [7,8,9,3]\n",
        "              ],\n",
        "              [\n",
        "                [4,5,6,5],\n",
        "                [1,3,6,7],\n",
        "                [7,8,9,8]\n",
        "              ]\n",
        "            ])\n",
        "print(\"Array Itemas\",a)\n",
        "print(\"Array dimensions:\",a.ndim)\n",
        "print(\"Array Size\",a.size)\n",
        "print(\"Array Shape\",a.shape)\n",
        "print(\"Array elements type:\",a.dtype)"
      ],
      "execution_count": 15,
      "outputs": [
        {
          "output_type": "stream",
          "text": [
            "Array Itemas [[[4 5 6 1]\n",
            "  [1 3 6 2]\n",
            "  [7 8 9 3]]\n",
            "\n",
            " [[4 5 6 5]\n",
            "  [1 3 6 7]\n",
            "  [7 8 9 8]]]\n",
            "Array dimensions: 3\n",
            "Array Size 24\n",
            "Array Shape (2, 3, 4)\n",
            "Array elements type: int64\n"
          ],
          "name": "stdout"
        }
      ]
    },
    {
      "cell_type": "code",
      "metadata": {
        "id": "6RffnusjuZsw"
      },
      "source": [
        ""
      ],
      "execution_count": null,
      "outputs": []
    }
  ]
}